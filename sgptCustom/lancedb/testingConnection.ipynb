{
 "cells": [
  {
   "cell_type": "code",
   "execution_count": null,
   "id": "1f20ebeb",
   "metadata": {},
   "outputs": [],
   "source": [
    "import lancedb\n",
    "import os"
   ]
  },
  {
   "cell_type": "code",
   "execution_count": 15,
   "id": "3d52be86",
   "metadata": {},
   "outputs": [],
   "source": [
    "from dotenv import dotenv_values\n",
    "\n",
    "config = dotenv_values('../../server/.env.development')  # load variables from .env"
   ]
  },
  {
   "cell_type": "code",
   "execution_count": null,
   "id": "ae6570a5",
   "metadata": {},
   "outputs": [],
   "source": [
    "LANCEDB_URI = config[\"LANCEDB_URI\"]\n",
    "db = lancedb.connect(LANCEDB_URI)"
   ]
  },
  {
   "cell_type": "code",
   "execution_count": 19,
   "id": "312de6e9",
   "metadata": {},
   "outputs": [
    {
     "data": {
      "text/plain": [
       "['testworkspace']"
      ]
     },
     "execution_count": 19,
     "metadata": {},
     "output_type": "execute_result"
    }
   ],
   "source": [
    "db.table_names()"
   ]
  }
 ],
 "metadata": {
  "kernelspec": {
   "display_name": "sgpt",
   "language": "python",
   "name": "python3"
  },
  "language_info": {
   "codemirror_mode": {
    "name": "ipython",
    "version": 3
   },
   "file_extension": ".py",
   "mimetype": "text/x-python",
   "name": "python",
   "nbconvert_exporter": "python",
   "pygments_lexer": "ipython3",
   "version": "3.12.2"
  }
 },
 "nbformat": 4,
 "nbformat_minor": 5
}
